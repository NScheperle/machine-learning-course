{
 "cells": [
  {
   "cell_type": "markdown",
   "metadata": {},
   "source": [
    "# Assignment 1 - Probability, Linear Algebra, Programming, and Git\n",
    "\n",
    "## Nathan Scheperle\n",
    "Netid:  nes31"
   ]
  },
  {
   "cell_type": "markdown",
   "metadata": {},
   "source": [
    "# Probability and Statistics Theory"
   ]
  },
  {
   "cell_type": "markdown",
   "metadata": {
    "collapsed": true
   },
   "source": [
    "## 1\n",
    "Let $f(x) = \\begin{cases}\n",
    "                0           & x < 0  \\\\\n",
    "                \\alpha x^2  & 0 \\leq x \\leq 2 \\\\\n",
    "                0           & 2 < x\n",
    "            \\end{cases}$\n",
    "            \n",
    "For what value of $\\alpha$ is $f(x)$ a valid probability density function?\n",
    "\n",
    "*Note: for all assignments, write out all equations and math for all assignments using markdown and [LaTeX](https://tobi.oetiker.ch/lshort/lshort.pdf) and show all work*"
   ]
  },
  {
   "cell_type": "markdown",
   "metadata": {},
   "source": [
    "**ANSWER**\n",
    "\n",
    "\\begin{align*}\n",
    "\\int_{-\\infty}^{\\infty} f(x) dx &= \\int_{0}^{2} ax^2 dx \\\\\n",
    "    &= \\left. \\frac{ax^3}{3} \\right|_{\\,0}^{\\,2} \\\\\n",
    "    &= \\frac{8a}{3} - \\frac{0a}{3} \\\\\n",
    "    &= \\frac{8a}{3} = 1 \\\\\n",
    "    &\\Rightarrow 8a = 3 \\\\\n",
    "    &\\Rightarrow a = \\frac{3}{8}\n",
    "\\end{align*}"
   ]
  },
  {
   "cell_type": "markdown",
   "metadata": {},
   "source": [
    "## 2\n",
    "What is the cumulative distribution function (CDF) that corresponds to the following probability distribution function? Please state the value of the CDF for all possible values of $x$.\n",
    "\n",
    "$f(x) = \\begin{cases}\n",
    "    \\frac{1}{3} & 0 < x < 3 \\\\\n",
    "    0           & \\text{otherwise}\n",
    "    \\end{cases}$"
   ]
  },
  {
   "cell_type": "markdown",
   "metadata": {},
   "source": [
    "**ANSWER**\n",
    "\n",
    "$F(x) = P(X \\leq x) =  \\begin{cases}\n",
    "    0           & x \\leq 0 \\\\\n",
    "    \\frac{x}{3} & 0 < x < 3 \\\\\n",
    "    1           & x \\geq 3\n",
    "    \\end{cases}$"
   ]
  },
  {
   "cell_type": "markdown",
   "metadata": {},
   "source": [
    "## 3\n",
    "For the probability distribution function for the random variable $X$,\n",
    "\n",
    "$f(x) = \\begin{cases}\n",
    "    \\frac{1}{3} & 0 < x < 3 \\\\\n",
    "    0           & \\text{otherwise}\n",
    "    \\end{cases}$\n",
    "    \n",
    "what is the (a) expected value and (b) variance of $X$. *Show all work*."
   ]
  },
  {
   "cell_type": "markdown",
   "metadata": {},
   "source": [
    "**ANSWER**\n",
    "\n",
    "(a) Expected value:\n",
    "\n",
    "\\begin{align*}\n",
    "E[X] &= \\int_{-\\infty}^{\\infty} x f(x) dx \\\\\n",
    "    &= \\int_{0}^{3} \\frac{x}{3} dx \\\\\n",
    "    &= \\left. \\frac{x^2}{6} \\right|_{0}^{3} = \\frac{9}{6} = \\frac{3}{2}\n",
    "\\end{align*}\n",
    "\n",
    "\n",
    "(b) Variance:\n",
    "\n",
    "\\begin{align*}\n",
    "V[X] &= \\int_{-\\infty}^{\\infty} x^2 f(x) dx - E[X] \\\\\n",
    "    &= \\int_{0}^{3} \\frac{x^2}{3} dx - \\frac{3}{2} \\\\\n",
    "    &= \\left. \\frac{x^3}{9} \\right|_{\\,0}^{\\,3} - \\frac{3}{2} \\\\\n",
    "    &= \\frac{27}{9} - \\frac{3}{2} = 3 - \\frac{3}{2} = \\frac{3}{2}\n",
    "\\end{align*}\n"
   ]
  },
  {
   "cell_type": "markdown",
   "metadata": {},
   "source": [
    "## 4\n",
    "Consider the following table of data that provides the values of a discrete data vector $\\mathbf{x}$ of samples from the random variable $X$, where each entry in $\\mathbf{x}$ is given as $x_i$.\n",
    "\n",
    "*Table 1. Dataset N=5 observations*\n",
    "\n",
    "|        | $x_0$ | $x_1$ | $x_2$ | $x_3$ | $x_4$ |\n",
    "|------  |-------|-------|-------|-------|-------|\n",
    "|$\\textbf{x}$| 2     | 3     | 10    | -1    | -1    |\n",
    "\n",
    "What is the (a) mean, (b) variance, and the  of the data? \n",
    "\n",
    "*Show all work. Your answer should include the definition of mean, median, and variance in the context of discrete data.*"
   ]
  },
  {
   "cell_type": "markdown",
   "metadata": {},
   "source": [
    "**ANSWER**\n",
    "\n",
    "(a) Mean\n",
    "\n",
    "$Mean({\\bf x}) = \\bar{\\bf x} = \\frac{1}{N} \\sum_{i=0}^{N} x_i = \\frac{1}{5} (2 + 3 + 10 + (-1) + (-1)) = \\frac{13}{5} = 2.6$\n",
    "\n",
    "$Median({\\bf x}) = 2$\n",
    "\n",
    "(b) Variance\n",
    "\n",
    "$Var({\\bf x}) = \\frac{1}{N-1} \\sum_{i=0}^{N} (x_i - \\bar{\\bf x})^2 = \\frac{1}{4} ((-.6)^2 + .4^2 + 7.4^2 + (-3.6)^2 + (-3.6)^2)\n",
    "= \\frac{1}{4} (.36 + .16 + 54.76 + 12.96 + 12.96) = \\frac{81.2}{4} = 20.3$"
   ]
  },
  {
   "cell_type": "markdown",
   "metadata": {},
   "source": [
    "## 5\n",
    "Review of counting from probability theory. \n",
    "\n",
    "(a) How many different 7-place license plates are possible if the first 3 places only contain letters and the last 4 only contain numbers?\n",
    "\n",
    "(b) How many different batting orders are possible for a baseball team with 9 players?\n",
    "\n",
    "(c) How many batting orders of 5 players are possible for a team with 9 players total?\n",
    "\n",
    "(d) Let's assume this class has 26 students and we want to form project teams. How many unique teams of 3 are possible?\n",
    "\n",
    "*Hint: For each problem, determine if order matters, and if it should be calculated with or without replacement.*"
   ]
  },
  {
   "cell_type": "markdown",
   "metadata": {},
   "source": [
    "**ANSWER**\n",
    "\n",
    "(a) $26^3 + 10^4 = 27,576$\n",
    "\n",
    "(b) $9! = 362,880$\n",
    "\n",
    "(c) $P(9,5) = \\frac{9!}{4!} = 15,120$\n",
    "\n",
    "(d) ${26 \\choose 3} = 2,600$\n",
    "\n"
   ]
  },
  {
   "cell_type": "markdown",
   "metadata": {},
   "source": [
    "# Linear Algebra"
   ]
  },
  {
   "cell_type": "markdown",
   "metadata": {},
   "source": [
    "## 6\n",
    "**Matrix manipulations and multiplication**. Machine learning involves working with many matrices, so this exercise will provide you with the opportunity to practice those skills.\n",
    "\n",
    "Let\n",
    "$\\mathbf{A} =  \\begin{bmatrix}\n",
    "1 & 2 & 3 \\\\\n",
    "2 & 4 & 5 \\\\\n",
    "3 & 5 & 6 \n",
    "\\end{bmatrix}$, $\\mathbf{b} =  \\begin{bmatrix}\n",
    "-1  \\\\\n",
    "3  \\\\\n",
    "8  \n",
    "\\end{bmatrix}$, $\\mathbf{c} =  \\begin{bmatrix}\n",
    "4  \\\\\n",
    "-3  \\\\\n",
    "6  \n",
    "\\end{bmatrix}$, and $\\mathbf{I} =  \\begin{bmatrix}\n",
    "1 & 0 & 0 \\\\\n",
    "0 & 1 & 0 \\\\\n",
    "0 & 0 & 1 \n",
    "\\end{bmatrix}$\n",
    "\n",
    "Compute the following or indicate that it cannot be computed:\n",
    "\n",
    "1. $\\mathbf{A}\\mathbf{A}$\n",
    "2. $\\mathbf{A}\\mathbf{A}^T$\n",
    "3. $\\mathbf{A}\\mathbf{b}$\n",
    "4. $\\mathbf{A}\\mathbf{b}^T$\n",
    "5. $\\mathbf{b}\\mathbf{A}$\n",
    "6. $\\mathbf{b}^T\\mathbf{A}$\n",
    "7. $\\mathbf{b}\\mathbf{b}$\n",
    "8. $\\mathbf{b}^T\\mathbf{b}$\n",
    "9. $\\mathbf{b}\\mathbf{b}^T$\n",
    "10. $\\mathbf{b} + \\mathbf{c}^T$\n",
    "11. $\\mathbf{b}^T\\mathbf{b}^T$\n",
    "12. $\\mathbf{A}^{-1}\\mathbf{b}$\n",
    "13. $\\mathbf{A}\\circ\\mathbf{A}$\n",
    "14. $\\mathbf{b}\\circ\\mathbf{c}$\n",
    "\n",
    "*Note: The element-wise (or Hadamard) product is the product of each element in one matrix with the corresponding element in another matrix, and is represented by the symbol \"$\\circ$\".*"
   ]
  },
  {
   "cell_type": "markdown",
   "metadata": {},
   "source": [
    "**ANSWER**\n",
    "\n",
    "1. $\\mathbf{A}\\mathbf{A} = \\begin{bmatrix}\n",
    "14 & 25 & 31 \\\\\n",
    "25 & 45 & 56 \\\\\n",
    "31 & 56 & 70 \n",
    "\\end{bmatrix}$\n",
    "\n",
    "2. $\\mathbf{A}\\mathbf{A^T} = \\begin{bmatrix}\n",
    "14 & 25 & 31 \\\\\n",
    "25 & 45 & 56 \\\\\n",
    "31 & 56 & 70 \n",
    "\\end{bmatrix}$\n",
    "\n",
    "3. $\\mathbf{A}\\mathbf{b} = \\begin{bmatrix}\n",
    "29 \\\\\n",
    "50 \\\\\n",
    "60\n",
    "\\end{bmatrix}$\n",
    "\n",
    "4. $\\mathbf{A}\\mathbf{b^T}$ cannot be computed.\n",
    "\n",
    "5. $\\mathbf{b}\\mathbf{A}$ cannot be computed.\n",
    "\n",
    "6. $\\mathbf{b^T}\\mathbf{A} = \\begin{bmatrix}\n",
    "29 & 50 & 60\n",
    "\\end{bmatrix}$\n",
    "\n",
    "7. $\\mathbf{b}\\mathbf{b}$ cannot be computed.\n",
    "\n",
    "8. $\\mathbf{b^T}\\mathbf{b} = 74$\n",
    "\n",
    "9. $\\mathbf{b}\\mathbf{b^T} = \\begin{bmatrix}\n",
    "1 & -3 & -8 \\\\\n",
    "-3 & 9 & 24 \\\\\n",
    "-8 & 24 & 64\n",
    "\\end{bmatrix}$\n",
    "\n",
    "10. $\\mathbf{b} + \\mathbf{c^T}$ cannot be computed.\n",
    "\n",
    "11. $\\mathbf{b^T}\\mathbf{b^T}$ cannot be computed.\n",
    "\n",
    "12. $\\mathbf{A^{-1}}\\mathbf{b} = \\begin{bmatrix}\n",
    "6 \\\\\n",
    "4 \\\\\n",
    "-5\n",
    "\\end{bmatrix}$\n",
    "\n",
    "13. $\\mathbf{A}\\circ\\mathbf{A} = \\begin{bmatrix}\n",
    "1 & 4 & 9 \\\\\n",
    "4 & 16 & 25 \\\\\n",
    "9 & 25 & 36\n",
    "\\end{bmatrix}$\n",
    "\n",
    "14. $\\mathbf{b}\\circ\\mathbf{c} = \\begin{bmatrix}\n",
    "-4 \\\\\n",
    "-9 \\\\\n",
    "48\n",
    "\\end{bmatrix}$"
   ]
  },
  {
   "cell_type": "markdown",
   "metadata": {},
   "source": [
    "## 6\n",
    "**Eigenvectors and eigenvalues**. Eigenvectors and eigenvalues are useful for some machine learning algorithms, but the concepts take time to solidly grasp. For an intuitive review of these concepts, explore this [interactive website at Setosa.io](http://setosa.io/ev/eigenvectors-and-eigenvalues/). Also, the series of linear algebra videos by Grant Sanderson of 3Brown1Blue are excellent and can be viewed on youtube [here](https://www.youtube.com/playlist?list=PLZHQObOWTQDPD3MizzM2xVFitgF8hE_ab).\n",
    "\n",
    "1. Calculate the eigenvalues and corresponding eigenvectors of matrix $\\mathbf{A}$ above, from the last question.\n",
    "2. Choose one of the eigenvector/eigenvalue pairs, $\\mathbf{v}$ and $\\lambda$, and show that $\\mathbf{A} \\mathbf{v} = \\lambda \\mathbf{v}$. Also show that this relationship extends to higher orders: $\\mathbf{A} \\mathbf{A} \\mathbf{v} = \\lambda^2 \\mathbf{v}$\n",
    "3. Show that the eigenvectors are orthogonal to one another (e.g. their inner product is zero). This is true for real, symmetric matrices."
   ]
  },
  {
   "cell_type": "markdown",
   "metadata": {},
   "source": [
    "**ANSWER**\n",
    "\n",
    "1. $\\lambda_1 = 11.3448$,\n",
    "   ${\\bf v}_1 = \\begin{bmatrix}\n",
    "   .4454042 \\\\\n",
    "   .801938 \\\\ \n",
    "   1\n",
    "   \\end{bmatrix}$\n",
    "   \n",
    "   $\\lambda_2 = -.515729$,\n",
    "   ${\\bf v}_2 = \\begin{bmatrix}\n",
    "   -1.24698 \\\\\n",
    "   -.554958 \\\\\n",
    "   1\n",
    "   \\end{bmatrix}$\n",
    "   \n",
    "   $\\lambda_3 = .170915$,\n",
    "   ${\\bf v}_3 = \\begin{bmatrix}\n",
    "   1.80194 \\\\\n",
    "   -2.24698 \\\\\n",
    "   1\n",
    "   \\end{bmatrix}$\n",
    "   \n",
    "2. $\\mathbf{A}{\\bf v}_1 = \\begin{bmatrix}\n",
    ".4454042 + 2 \\cdot .801938 + 3 \\\\\n",
    "2 \\cdot .4454042 + 4 \\cdot .801938 + 5 \\\\\n",
    "3 \\cdot .4454042 + 5 \\cdot .801938 + 6 \n",
    "\\end{bmatrix} = \\begin{bmatrix}\n",
    "5.0492802 \\\\\n",
    "9.0985604 \\\\\n",
    "11.3459026\n",
    "\\end{bmatrix} \\approx 11.3448 \\cdot \\begin{bmatrix}\n",
    "   .4454042 \\\\\n",
    "   .801938 \\\\ \n",
    "   1\n",
    "   \\end{bmatrix} = \\lambda_1 {\\bf v}_1$\n",
    "\n",
    "$\\mathbf{A}\\mathbf{A}{\\bf v}_1 = \\begin{bmatrix}\n",
    "14 \\cdot .4454042 + 25 \\cdot .801938 + 31 \\\\\n",
    "25 \\cdot .4454042 + 45 \\cdot .801938 + 56 \\\\\n",
    "31 \\cdot .4454042 + 56 \\cdot .801938 + 70\n",
    "\\end{bmatrix} \\approx 128.70448704 \\cdot \\begin{bmatrix}\n",
    "   .4454042 \\\\\n",
    "   .801938 \\\\ \n",
    "   1\n",
    "   \\end{bmatrix} = \\lambda_1^2 {\\bf v}_1$\n",
    "   \n",
    "3. ${\\bf v}_1 \\cdot {\\bf v}_2 = .4454042 \\cdot -1.24698 + .801938 \\cdot -.554958 + 1 \\approx 0$\n",
    "\n",
    "   ${\\bf v}_1 \\cdot {\\bf v}_3 = .4454042 \\cdot 1.80194 + .801938 \\cdot -2.24698 + 1 \\approx 0$\n",
    "   \n",
    "   ${\\bf v}_2 \\cdot {\\bf v}_3 = -1.24698 \\cdot 1.80194 + -.554958 \\cdot -2.24698 + 1 \\approx 0$"
   ]
  },
  {
   "cell_type": "markdown",
   "metadata": {},
   "source": [
    "# Numerical Programming"
   ]
  },
  {
   "cell_type": "markdown",
   "metadata": {},
   "source": [
    "## 7\n",
    "Speed comparison between vectorized and non-vectorized code. Begin by creating an array of 10 million random numbers using the numpy random.randn module. Compute the sum of the squares first in a for loop, then using Numpy's `dot` module. Time how long it takes to compute each and report the results and report the output. How many times faster is the vectorized code than the for loop approach?\n",
    "\n",
    "*Note: all code should be well commented, properly formatted, and your answers should be output using the `print()` function as follows (where the # represents your answers, to a reasonable precision):\n",
    "\n",
    "`Time [sec] (non-vectorized): ######`\n",
    "\n",
    "`Time [sec] (vectorized):     ######`\n",
    "\n",
    "`The vectorized code is ##### times faster than the vectorized code`"
   ]
  },
  {
   "cell_type": "markdown",
   "metadata": {},
   "source": [
    "**ANSWER**"
   ]
  },
  {
   "cell_type": "code",
   "execution_count": 26,
   "metadata": {},
   "outputs": [
    {
     "name": "stdout",
     "output_type": "stream",
     "text": [
      "Solution (non-vectorized, vectorized): 100090.59003086534, 100090.590030866\n",
      "Time [sec] (non-vectorized): 0.039903879165649414\n",
      "Time [sec] (vectorized): 0.0001\n",
      "The vectorized code is 399.038792 times faster than the non-vectorized code.\n"
     ]
    }
   ],
   "source": [
    "import numpy as np\n",
    "import time\n",
    "\n",
    "np.random.seed(127)\n",
    "n = 10**5 # set sample size\n",
    "# Generate the random samples\n",
    "x = np.random.randn(n)\n",
    "\n",
    "# Compute the sum of squares the non-vectorized way (using a for loop)\n",
    "start = time.time()\n",
    "answer1 = 0\n",
    "for num in x:\n",
    "    answer1 += num**2\n",
    "time1 = time.time() - start\n",
    "\n",
    "# Compute the sum of squares the vectorized way (using numpy)\n",
    "start = time.time()\n",
    "answer2 = np.dot(x,x)\n",
    "time2 = time.time() - start\n",
    "if time2 < 0.0001:\n",
    "    time2 = .0001\n",
    "\n",
    "# Print the results\n",
    "print(\"Solution (non-vectorized, vectorized): %s, %s\" % (answer1, answer2))\n",
    "print(\"Time [sec] (non-vectorized): %s\" % (time1))\n",
    "print(\"Time [sec] (vectorized): %s\" % (time2))\n",
    "print(\"The vectorized code is %f times faster than the non-vectorized code.\" % (time1/time2))\n"
   ]
  },
  {
   "cell_type": "markdown",
   "metadata": {},
   "source": [
    "## 8\n",
    "One popular Agile development framework is Scrum (a paradigm recommended for data science projects). It emphasizes the continual evolution of code for projects, becoming progressively better, but starting with a quickly developed minimum viable product. This often means that code written early on is not optimized, and that's a good thing - it's best to get it to work first before optimizing. Imagine that you wrote the following code during a sprint towards getting an end-to-end system working. Vectorize the following code and show the difference in speed between the current implementation and a vectorized version.\n",
    "\n",
    "The function below computes the function $f(x,y) = x^2 - 2 y^2$ and determines whether this quantity is above or below a given threshold, `thresh=0`. This is done for $x,y \\in \\{-4,4\\}$, over a 2,000-by-2,000 grid covering that domain.\n",
    "\n",
    "(a) Vectorize this code and demonstrate (as in the last exercise) the speed increase through vectorization and (b) plot the resulting data - both the function $f(x,y)$ and the thresholded output - using [`imshow`](https://matplotlib.org/api/_as_gen/matplotlib.pyplot.imshow.html?highlight=matplotlib%20pyplot%20imshow#matplotlib.pyplot.imshow) from `matplotlib`.\n",
    "\n",
    "*Hint: look at the `numpy` [`meshgrid`](https://docs.scipy.org/doc/numpy-1.13.0/reference/generated/numpy.meshgrid.html) documentation*"
   ]
  },
  {
   "cell_type": "code",
   "execution_count": 27,
   "metadata": {},
   "outputs": [
    {
     "data": {
      "image/png": "[encoded data removed]",
      "text/plain": [
       "<Figure size 432x288 with 1 Axes>"
      ]
     },
     "metadata": {
      "needs_background": "light"
     },
     "output_type": "display_data"
    },
    {
     "data": {
      "image/png": "[encoded data removed]",
      "text/plain": [
       "<Figure size 432x288 with 1 Axes>"
      ]
     },
     "metadata": {
      "needs_background": "light"
     },
     "output_type": "display_data"
    },
    {
     "name": "stdout",
     "output_type": "stream",
     "text": [
      "Time [sec] (non-vectorized): 31.39908456802368\n",
      "Time [sec] (non-vectorized): 0.038863182067871094\n",
      "The vectorized code is 807.939106 times faster than the non-vectorized code.\n"
     ]
    }
   ],
   "source": [
    "import numpy as np\n",
    "import time\n",
    "import matplotlib.pyplot as plt\n",
    "\n",
    "# I placed each solution into a function so that I could test them individually. \n",
    "# Because of this the plotting is done in the vectorized function instead of at the end.\n",
    "\n",
    "# Initialize variables for this exerise\n",
    "thresh = 0\n",
    "def f(x,y):\n",
    "    return x**2 - 2*y**2\n",
    "\n",
    "# initialize the space\n",
    "n = 2000\n",
    "x = np.linspace(-4,4,n)\n",
    "y = np.linspace(-4,4,n)\n",
    "\n",
    "# Nonvectorized implementation\n",
    "def nonvec():\n",
    "    start = time.time()\n",
    "    # brute force loop\n",
    "    for x_val in x:\n",
    "        for y_val in y:\n",
    "            f_val = f(x,y)\n",
    "            cond = f_val > thresh\n",
    "    end = time.time()\n",
    "    return end - start\n",
    "nonvec_time = nonvec()\n",
    "\n",
    "# Vectorized implementation\n",
    "def vec():\n",
    "    xx, yy = np.meshgrid(x,y)\n",
    "    start = time.time()\n",
    "    f_vals = f(xx,yy)\n",
    "    t_vals = f_vals < thresh\n",
    "    end = time.time()\n",
    "    \n",
    "    # Plot the results\n",
    "    plt.imshow(f_vals)\n",
    "    plt.title(\"Values of f for x,y in [-4,4]\")\n",
    "    plt.show()\n",
    "    plt.title(\"Values of f < 0 for x,y in [-4,4]\")\n",
    "    plt.imshow(t_vals)\n",
    "    plt.show()\n",
    "    return end - start\n",
    "vec_time = vec()\n",
    "\n",
    "# Print the time for each and the speed increase\n",
    "print(\"Time [sec] (non-vectorized): %s\" % (nonvec_time))\n",
    "print(\"Time [sec] (non-vectorized): %s\" % (vec_time))\n",
    "print(\"The vectorized code is %f times faster than the non-vectorized code.\" % (nonvec_time/vec_time))\n",
    "\n"
   ]
  },
  {
   "cell_type": "markdown",
   "metadata": {},
   "source": [
    "## 9\n",
    "This exercise will walk through some basic numerical programming exercises.\n",
    "1. Synthesize $n=10^4$ normally distributed data points with mean $\\mu=2$ and a standard deviation of $\\sigma=1$. Call these observations from a random variable $X$, and call the vector of observations that you generate, $\\textbf{x}$.\n",
    "2. Calculate the mean and standard deviation of $\\textbf{x}$ to validate (1) and provide the result to a precision of four significant figures.\n",
    "3. Plot a histogram of the data in $\\textbf{x}$ with 30 bins\n",
    "4. What is the 90th percentile of $\\textbf{x}$? The 90th percentile is the value below which 90% of observations can be found.\n",
    "5. What is the 99th percentile of $\\textbf{x}$?\n",
    "6. Now synthesize $n=10^4$ normally distributed data points with mean $\\mu=0$ and a standard deviation of $\\sigma=3$. Call these observations from a random variable $Y$, and call the vector of observations that you generate, $\\textbf{y}$.\n",
    "7. Plot the histogram of the data in $\\textbf{y}$ on a (new) plot with the histogram of $\\textbf{x}$, so that both histograms can be seen and compared.\n",
    "8. Using the observations from $\\textbf{x}$ and $\\textbf{y}$, estimate $E[XY]$"
   ]
  },
  {
   "cell_type": "markdown",
   "metadata": {},
   "source": [
    "**ANSWER**"
   ]
  },
  {
   "cell_type": "code",
   "execution_count": 28,
   "metadata": {},
   "outputs": [
    {
     "name": "stdout",
     "output_type": "stream",
     "text": [
      "Mean: 2.0018, standard deviation: 0.9958\n"
     ]
    },
    {
     "data": {
      "image/png": "[encoded data removed]",
      "text/plain": [
       "<Figure size 432x288 with 1 Axes>"
      ]
     },
     "metadata": {
      "needs_background": "light"
     },
     "output_type": "display_data"
    },
    {
     "name": "stdout",
     "output_type": "stream",
     "text": [
      "90th Percentile: 3.270452\n",
      "99th Percentile: 4.277313\n"
     ]
    },
    {
     "data": {
      "image/png": "[encoded data removed]",
      "text/plain": [
       "<Figure size 432x288 with 1 Axes>"
      ]
     },
     "metadata": {
      "needs_background": "light"
     },
     "output_type": "display_data"
    },
    {
     "name": "stdout",
     "output_type": "stream",
     "text": [
      "Mean of element-wise product of x and y: 0.001411, Product of mean of x and mean of y: 0.015514\n"
     ]
    },
    {
     "data": {
      "image/png": "[encoded data removed]",
      "text/plain": [
       "<Figure size 432x288 with 1 Axes>"
      ]
     },
     "metadata": {
      "needs_background": "light"
     },
     "output_type": "display_data"
    }
   ],
   "source": [
    "n = 10**4\n",
    "\n",
    "# 1\n",
    "mu = 2\n",
    "sigma = 1\n",
    "x = sigma*np.random.randn(n) + mu\n",
    "\n",
    "# 2\n",
    "x_bar = np.mean(x)\n",
    "x_std = np.std(x)\n",
    "\n",
    "print(\"Mean: %.4f, standard deviation: %.4f\" % (x_bar, x_std))\n",
    "\n",
    "# 3\n",
    "plt.hist(x, bins=30)\n",
    "plt.xlabel(\"x\")\n",
    "plt.title(\"Distribution of X\")\n",
    "plt.show()\n",
    "\n",
    "# 4\n",
    "x_q90 = np.percentile(x, 90)\n",
    "print(\"90th Percentile: %f\" % (x_q90))\n",
    "\n",
    "# 5\n",
    "x_q99 = np.percentile(x, 99)\n",
    "print(\"99th Percentile: %f\" % (x_q99))\n",
    "\n",
    "# 6\n",
    "mu = 0\n",
    "sigma = 3\n",
    "y = sigma*np.random.randn(n) + mu\n",
    "y_bar = np.mean(y)\n",
    "\n",
    "# 7\n",
    "plt.hist(x, bins=30, alpha=.5, label=\"X\")\n",
    "plt.hist(y, bins=30, alpha=.5, label=\"Y\")\n",
    "plt.legend(loc='upper right')\n",
    "plt.title(\"Distributions of X and Y\")\n",
    "plt.show()\n",
    "\n",
    "# 8\n",
    "xy = x*y\n",
    "xy_bar = np.mean(xy)\n",
    "ex_ey = x_bar*y_bar\n",
    "print(\"Mean of element-wise product of x and y: %f, Product of mean of x and mean of y: %f\" % (xy_bar, ex_ey))\n",
    "plt.hist(xy, bins=30)\n",
    "plt.title(\"Distribution of XY\")\n",
    "plt.xlabel(\"xy\")\n",
    "plt.show()"
   ]
  },
  {
   "cell_type": "markdown",
   "metadata": {},
   "source": [
    "Note that because X and Y are independent random variables, $E[XY] = E[X]E[Y]$."
   ]
  },
  {
   "cell_type": "markdown",
   "metadata": {},
   "source": [
    "## 10\n",
    "Estimate the integral of the function $f(x)$ on the interval $0\\leq x < 2.5$ assuming we only know the following points from $f$:\n",
    "\n",
    "*Table 1. Dataset containing n=5 observations*\n",
    "\n",
    "| $x_i$ | 0.0 | 0.5 | 1.0 | 1.5 | 2.0 |\n",
    "|-|-|-|-|-|-|\n",
    "| $y_i$ | 6 | 7 | 8 | 4 | 1 |\n"
   ]
  },
  {
   "cell_type": "markdown",
   "metadata": {},
   "source": [
    "**ANSWER**\n"
   ]
  },
  {
   "cell_type": "code",
   "execution_count": 29,
   "metadata": {},
   "outputs": [
    {
     "data": {
      "image/png": "[encoded data removed]",
      "text/plain": [
       "<Figure size 432x288 with 1 Axes>"
      ]
     },
     "metadata": {
      "needs_background": "light"
     },
     "output_type": "display_data"
    },
    {
     "data": {
      "image/png": "[encoded data removed]",
      "text/plain": [
       "<Figure size 432x288 with 1 Axes>"
      ]
     },
     "metadata": {
      "needs_background": "light"
     },
     "output_type": "display_data"
    },
    {
     "name": "stdout",
     "output_type": "stream",
     "text": [
      "Integral of f(x) aproximation using trapezoidal rule of Riemann sum: 11.250\n"
     ]
    }
   ],
   "source": [
    "# create arrays representing x and y values of f\n",
    "x = np.array([0.0, 0.5, 1.0, 1.5, 2.0])\n",
    "y = np.array([6, 7, 8, 4, 1])\n",
    "\n",
    "# plot f\n",
    "plt.plot(x,y)\n",
    "plt.xlabel('x')\n",
    "plt.ylabel('y')\n",
    "plt.title(\"f(x)\")\n",
    "plt.show()\n",
    "\n",
    "# use Riemann sum to approximate integral of f, using trapezoidal rule\n",
    "colors = ['b', 'g', 'r', 'c']\n",
    "plt.plot(x,y)\n",
    "\n",
    "# dx is the width of x interval\n",
    "dx = 0.5\n",
    "rie_sum = 0\n",
    "# loop through values of x and y, taking the average of each interval\n",
    "for i in range(len(x)-1):\n",
    "    rie_sum += y[i]\n",
    "    rie_sum += y[i+1]\n",
    "    plt.fill_between(x[i:i+2], y[i:i+2], facecolor = colors[i], alpha=.5)\n",
    "    plt.text(np.mean(x[i:i+2]), np.mean(y[i:i+2])/2, 'A='+str(.5*(y[i]+y[i+1])*dx), horizontalalignment='center')\n",
    "    \n",
    "rie_sum = .5*rie_sum*dx\n",
    "plt.xlabel('x')\n",
    "plt.ylabel('y')\n",
    "plt.title(\"Summing Under f(x)\")\n",
    "\n",
    "plt.show()\n",
    "print(\"Integral of f(x) aproximation using trapezoidal rule of Riemann sum: %.3f\" % (rie_sum))\n"
   ]
  },
  {
   "cell_type": "markdown",
   "metadata": {
    "collapsed": true
   },
   "source": [
    "# Version Control via Git"
   ]
  },
  {
   "cell_type": "markdown",
   "metadata": {},
   "source": [
    "## 11\n",
    "Complete the [Atlassian Git tutorial](https://www.atlassian.com/git/tutorials/what-is-version-control), specifically the following sections. Try each concept that's presented. For this tutorial, instead of using BitBucket, use Github. Create a github account here if you don't already have one: https://github.com/\n",
    "1. [What is version control](https://www.atlassian.com/git/tutorials/what-is-version-control)\n",
    "2. [What is Git](https://www.atlassian.com/git/tutorials/what-is-git)\n",
    "3. [Install Git](https://www.atlassian.com/git/tutorials/install-git)\n",
    "4. [Setting up a repository](https://www.atlassian.com/git/tutorials/install-git)\n",
    "5. [Saving changes](https://www.atlassian.com/git/tutorials/saving-changes)\n",
    "6. [Inspecting a repository](https://www.atlassian.com/git/tutorials/inspecting-a-repository)\n",
    "7. [Undoing changes](https://www.atlassian.com/git/tutorials/undoing-changes)\n",
    "8. [Rewriting history](https://www.atlassian.com/git/tutorials/rewriting-history)\n",
    "9. [Syncing](https://www.atlassian.com/git/tutorials/syncing)\n",
    "10. [Making a pull request](https://www.atlassian.com/git/tutorials/making-a-pull-request)\n",
    "11. [Using branches](https://www.atlassian.com/git/tutorials/using-branches)\n",
    "12. [Comparing workflows](https://www.atlassian.com/git/tutorials/comparing-workflows)\n",
    "\n",
    "For your answer, affirm that you either completed the tutorial or have previous experience with all of the concepts above. Do this by typing your name below and selecting the situation that applies from the two options in brackets."
   ]
  },
  {
   "cell_type": "markdown",
   "metadata": {},
   "source": [
    "**ANSWER**\n",
    "\n",
    "I, **Nathan Scheperle**, affirm that I have **completed the above tutorial / I have previous experience that covers all the content in this tutorial**"
   ]
  },
  {
   "cell_type": "markdown",
   "metadata": {},
   "source": [
    "## 12\n",
    "Using Github to create a static HTML website:\n",
    "1. Create a branch in your `machine-learning-course` repo called \"gh-pages\" and checkout that branch (this will provide an example of how to create a simple static website using [Github Pages](https://pages.github.com/))\n",
    "2. Create a file called \"index.html\" with the contents \"Hello World\" and add, commit, and push it to that branch.\n",
    "3. Submit the following: (a) a link to your github repository and (b) a link to your new \"Hello World\" website. The latter should be at the address https://[USERNAME].github.io/ECE590-assignment0 (where [USERNAME] is your github username)."
   ]
  },
  {
   "cell_type": "markdown",
   "metadata": {},
   "source": [
    "**ANSWER**\n",
    "\n",
    "a. https://github.com/NScheperle/machine-learning-course\n",
    "\n",
    "b. https://github.com/NScheperle/machine-learning-course/blob/gh-pages/index.html\n"
   ]
  },
  {
   "cell_type": "markdown",
   "metadata": {
    "collapsed": true
   },
   "source": [
    "# Exploratory Data Analysis\n",
    "## 13\n",
    "Here you'll bring together some of the individual skills that you demonstrated above and create a Jupyter notebook based blog post on data analysis.\n",
    "\n",
    "1. Find a dataset that interests you and relates to a question or problem that you find intriguing\n",
    "2. Using a Jupyter notebook, describe the dataset, the source of the data, and the reason the dataset was of interest.\n",
    "3. Check the data and see if they need to be cleaned: are there missing values? Are there clearly erroneous values? Do two tables need to be merged together? Clean the data so it can be visualized.\n",
    "3. Plot the data, demonstrating interesting features that you discover. Are there any relationships between variables that were surprising or patterns that emerged? Please exercise creativity and curiosity in your plots.\n",
    "4. What insights are you able to take away from exploring the data? Is there a reason why analyzing the dataset you chose is particularly interesting or important? Summarize this as if your target audience was the readership of a major news organization - boil down your findings in a way that is accessible, but still accurate.\n",
    "5. Create a public repository on your github account titled \"machine-learning-course\". In it, create a readme file that contains the heading \"ECE590: Introductory Machine Learning for Data Science\". Add, commit, and push that Jupyter notebook to the master branch. Provide the link to the that post here."
   ]
  },
  {
   "cell_type": "markdown",
   "metadata": {},
   "source": [
    "**ANSWER**\n",
    "\n",
    "https://github.com/NScheperle/machine-learning-course/blob/master/FIFA_Exploration.ipynb"
   ]
  }
 ],
 "metadata": {
  "kernelspec": {
   "display_name": "Python 3",
   "language": "python",
   "name": "python3"
  },
  "language_info": {
   "codemirror_mode": {
    "name": "ipython",
    "version": 3
   },
   "file_extension": ".py",
   "mimetype": "text/x-python",
   "name": "python",
   "nbconvert_exporter": "python",
   "pygments_lexer": "ipython3",
   "version": "3.7.1"
  }
 },
 "nbformat": 4,
 "nbformat_minor": 2
}
